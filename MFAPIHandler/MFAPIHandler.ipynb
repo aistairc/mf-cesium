{
 "cells": [
  {
   "cell_type": "code",
   "execution_count": 26,
   "id": "initial_id",
   "metadata": {
    "collapsed": true,
    "ExecuteTime": {
     "end_time": "2023-08-18T05:24:07.371449Z",
     "start_time": "2023-08-18T05:24:07.369387Z"
    }
   },
   "outputs": [],
   "source": [
    "import json\n",
    "\n",
    "import requests\n",
    "from munch import Munch\n",
    "import re\n",
    "class MFAPIHandler:\n",
    "    def __init__(self, base_url):\n",
    "        self.base_url = base_url\n",
    "\n",
    "    def send_post_request(self, endpoint, data):\n",
    "        url = self.base_url + endpoint\n",
    "        response = requests.post(url, json=data)\n",
    "        return response\n",
    "\n",
    "    def send_get_request(self, endpoint, params=None):\n",
    "        url = self.base_url + endpoint\n",
    "        response = requests.get(url, params=params)\n",
    "        return response.json()\n",
    "\n",
    "    def send_put_request(self, endpoint, data):\n",
    "        url = self.base_url + endpoint\n",
    "        response = requests.put(url, json=data)\n",
    "        return response\n",
    "\n",
    "    def send_delete_request(self, endpoint):\n",
    "        url = self.base_url + endpoint\n",
    "        response = requests.delete(url)\n",
    "        return response\n",
    "\n",
    "    def delete_mf_collection(self, collection_id):\n",
    "        endpoint = f\"/collections/{collection_id}\"\n",
    "        url = self.base_url + endpoint\n",
    "        headers = {\n",
    "            'accept': '*/*',\n",
    "            'Content-Type': 'application/json',\n",
    "        }\n",
    "        response = requests.delete(url, headers=headers)\n",
    "        return response\n",
    "\n",
    "    def post_mf_collection(self, collection_id, json_data):\n",
    "        endpoint = f\"/collections/{collection_id}/items\"\n",
    "        url = self.base_url + endpoint\n",
    "        headers = {\n",
    "            'accept': '*/*',\n",
    "            'Content-Type': 'application/json',\n",
    "        }\n",
    "        response = requests.post(url, headers=headers, json=json_data)\n",
    "        return response\n",
    "\n",
    "    def get_mf_collection(self, collection_id):\n",
    "        endpoint = f\"/collections/{collection_id}/items\"\n",
    "        url = self.base_url + endpoint\n",
    "        response = requests.get(url)\n",
    "        return response\n",
    "    \n",
    "    def get_mf(self, collection_id, feature_id):\n",
    "        endpoint = f\"/collections/{collection_id}/items/{feature_id}/tGeometries\"\n",
    "        url = self.base_url + endpoint\n",
    "        response = requests.get(url)\n",
    "        return response"
   ]
  },
  {
   "cell_type": "code",
   "execution_count": 34,
   "outputs": [
    {
     "name": "stdout",
     "output_type": "stream",
     "text": [
      "2d6642b9-f2ef-43f1-bc04-47fa9b29c468\n",
      "f61e3218-e1db-4d5b-956e-9a69062f5ae5\n"
     ]
    }
   ],
   "source": [
    "base_url = \"http://localhost:8085\"  # API의 기본 URL로 변경해주세요\n",
    "mfapi_handler = MFAPIHandler(base_url)\n",
    "get_endpoint = \"/collections\"  # 실제 API 엔드포인트로 변경해주세요\n",
    "# get_params = {\"param_key\": \"param_value\"}  # GET 요청에 보낼 쿼리 파라미터\n",
    "get_collections_response = mfapi_handler.send_get_request(get_endpoint)\n",
    "# print(\"GET Response:\", get_response)\n",
    "mf_collections = Munch.fromDict(get_collections_response)\n",
    "for each_mf_collection in mf_collections.collections:\n",
    "    print(each_mf_collection.id)\n",
    "    "
   ],
   "metadata": {
    "collapsed": false,
    "ExecuteTime": {
     "end_time": "2023-08-18T06:47:58.254669Z",
     "start_time": "2023-08-18T06:47:58.138606Z"
    }
   },
   "id": "f00582d67623e321"
  },
  {
   "cell_type": "code",
   "execution_count": null,
   "outputs": [],
   "source": [
    "# data_path_1 = \"/Users/wijaecho/Workspace/gitlab/MFAPIHandler/data/MF-JSON Prism/MovingPoint/mfjson_prism_CubicSample_with_image2.json\"\n",
    "data_path_1 = \"/Users/wijaecho/Workspace/gitlab/MFAPIHandler/data/MF-JSON Trajectory/FeatureCollection/201901_03.en-trajectory.json\"\n",
    "# data_path_1 = \"/Users/wijaecho/Workspace/gitlab/MFAPIHandler/data/MF-JSON Prism/MovingGeometryCollection/mfjson_GeometryCollection.json\"\n",
    "# data_path_2 = \"/Users/wijaecho/Workspace/gitlab/MFAPIHandler/data/test.json\"\n",
    "with open(data_path_1, \"r\") as fp1:\n",
    "    mf_json_data_1 = json.load(fp1)\n",
    "        \n",
    "mf_collections_id = \"f61e3218-e1db-4d5b-956e-9a69062f5ae5\"\n",
    "result = mfapi_handler.post_mf_collection(collection_id=mf_collections_id, json_data=mf_json_data_1)\n",
    "print(result, result.headers)"
   ],
   "metadata": {
    "collapsed": false
   },
   "id": "4a1d254257663aa7"
  },
  {
   "cell_type": "code",
   "execution_count": 31,
   "outputs": [
    {
     "name": "stdout",
     "output_type": "stream",
     "text": [
      "{'type': 'MovingGeometryCollection', 'prisms': [{'type': 'MovingPoint', 'coordinates': [[139.757083, 35.627701, 0], [139.757399, 35.627701, 2], [139.757555, 35.627688, 4], [139.757651, 35.627596, 4], [139.757716, 35.627483, 4]], 'datetimes': ['2011-07-14T22:01:01-09Z', '2011-07-14T22:01:12-09Z', '2011-07-14T22:01:23-09Z', '2011-07-14T22:01:34-09Z', '2011-07-14T22:01:45-09Z'], 'interpolation': 'Linear', 'id': '3ee89cfa-ccd3-4086-88f5-0c0537424893'}], 'crs': {'type': 'Name', 'properties': 'urn:ogc:def:crs:OGC:1.3:CRS84'}, 'trs': {'type': 'Name', 'properties': 'urn:ogc:data:time:iso8601'}, 'links': [{'href': 'http://localhost:8085/collections/f61e3218-e1db-4d5b-956e-9a69062f5ae5/items/0372f5d2-96a7-4b0e-98e5-bc76ae9ad031/tGeometries?offset=0', 'rel': 'self', 'type': 'application/json'}], 'timeStamp': '2023-08-18T06:46:14.933547Z', 'numberMatched': 1, 'numberReturned': 1}\n",
      "\n",
      "{'type': 'MovingGeometryCollection', 'prisms': [], 'crs': {'type': 'Name', 'properties': 'urn:ogc:def:crs:OGC:1.3:CRS84'}, 'trs': {'type': 'Name', 'properties': 'urn:ogc:data:time:iso8601'}, 'links': [{'href': 'http://localhost:8085/collections/f61e3218-e1db-4d5b-956e-9a69062f5ae5/items/0ea54841-569d-4d39-8baf-194dec026d24/tGeometries?offset=0', 'rel': 'self', 'type': 'application/json'}], 'timeStamp': '2023-08-18T06:46:15.069967Z', 'numberMatched': 0, 'numberReturned': 0}\n",
      "{'type': 'MovingGeometryCollection', 'prisms': [{'type': 'MovingPoint', 'coordinates': [[139.757083, 35.627701, 0], [139.757399, 35.627701, 2], [139.757555, 35.627688, 4], [139.757651, 35.627596, 4], [139.757716, 35.627483, 4]], 'datetimes': ['2011-07-14T22:01:01-09Z', '2011-07-14T22:01:12-09Z', '2011-07-14T22:01:23-09Z', '2011-07-14T22:01:34-09Z', '2011-07-14T22:01:45-09Z'], 'interpolation': 'Linear', 'id': 'd7083fff-7e41-4641-a75e-47c4ac08ab7e'}], 'crs': {'type': 'Name', 'properties': 'urn:ogc:def:crs:OGC:1.3:CRS84'}, 'trs': {'type': 'Name', 'properties': 'urn:ogc:data:time:iso8601'}, 'links': [{'href': 'http://localhost:8085/collections/f61e3218-e1db-4d5b-956e-9a69062f5ae5/items/1e112863-56d7-41e7-b003-bf2e2d30d18a/tGeometries?offset=0', 'rel': 'self', 'type': 'application/json'}], 'timeStamp': '2023-08-18T06:46:15.221131Z', 'numberMatched': 1, 'numberReturned': 1}\n",
      "\n",
      "{'type': 'MovingGeometryCollection', 'prisms': [{'type': 'MovingPoint', 'coordinates': [[139.757083, 35.627701, 0], [139.757399, 35.627701, 2], [139.757555, 35.627688, 4], [139.757651, 35.627596, 4], [139.757716, 35.627483, 4]], 'datetimes': ['2011-07-14T22:01:01-09Z', '2011-07-14T22:01:12-09Z', '2011-07-14T22:01:23-09Z', '2011-07-14T22:01:34-09Z', '2011-07-14T22:01:45-09Z'], 'interpolation': 'Linear', 'id': '0ba5b11b-9efb-4295-a791-ae0c0464c6ed'}], 'crs': {'type': 'Name', 'properties': 'urn:ogc:def:crs:OGC:1.3:CRS84'}, 'trs': {'type': 'Name', 'properties': 'urn:ogc:data:time:iso8601'}, 'links': [{'href': 'http://localhost:8085/collections/f61e3218-e1db-4d5b-956e-9a69062f5ae5/items/2975d998-3cf0-4530-89c6-ee991b8a3078/tGeometries?offset=0', 'rel': 'self', 'type': 'application/json'}], 'timeStamp': '2023-08-18T06:46:15.365181Z', 'numberMatched': 1, 'numberReturned': 1}\n",
      "{'type': 'MovingGeometryCollection', 'prisms': [], 'crs': {'type': 'Name', 'properties': 'urn:ogc:def:crs:OGC:1.3:CRS84'}, 'trs': {'type': 'Name', 'properties': 'urn:ogc:data:time:iso8601'}, 'links': [{'href': 'http://localhost:8085/collections/f61e3218-e1db-4d5b-956e-9a69062f5ae5/items/3a8d98a9-fd6c-4619-8651-a325a6109fdd/tGeometries?offset=0', 'rel': 'self', 'type': 'application/json'}], 'timeStamp': '2023-08-18T06:46:15.501647Z', 'numberMatched': 0, 'numberReturned': 0}\n",
      "\n",
      "{'type': 'MovingGeometryCollection', 'prisms': [{'type': 'MovingPoint', 'coordinates': [[139.757083, 35.627701, 0], [139.757399, 35.627701, 2], [139.757555, 35.627688, 4], [139.757651, 35.627596, 4], [139.757716, 35.627483, 4]], 'datetimes': ['2011-07-14T22:01:01-09Z', '2011-07-14T22:01:12-09Z', '2011-07-14T22:01:23-09Z', '2011-07-14T22:01:34-09Z', '2011-07-14T22:01:45-09Z'], 'interpolation': 'Linear', 'id': 'c824d98c-f3d8-498d-977b-1bd800e10504'}], 'crs': {'type': 'Name', 'properties': 'urn:ogc:def:crs:OGC:1.3:CRS84'}, 'trs': {'type': 'Name', 'properties': 'urn:ogc:data:time:iso8601'}, 'links': [{'href': 'http://localhost:8085/collections/f61e3218-e1db-4d5b-956e-9a69062f5ae5/items/4d92ce9e-68bb-4507-a592-45c5c2cec4a3/tGeometries?offset=0', 'rel': 'self', 'type': 'application/json'}], 'timeStamp': '2023-08-18T06:46:15.649070Z', 'numberMatched': 1, 'numberReturned': 1}\n",
      "{'type': 'MovingGeometryCollection', 'prisms': [], 'crs': {'type': 'Name', 'properties': 'urn:ogc:def:crs:OGC:1.3:CRS84'}, 'trs': {'type': 'Name', 'properties': 'urn:ogc:data:time:iso8601'}, 'links': [{'href': 'http://localhost:8085/collections/f61e3218-e1db-4d5b-956e-9a69062f5ae5/items/948c1bfa-ebf6-4a0d-9048-971ebb4e8452/tGeometries?offset=0', 'rel': 'self', 'type': 'application/json'}], 'timeStamp': '2023-08-18T06:46:15.779710Z', 'numberMatched': 0, 'numberReturned': 0}\n",
      "\n",
      "{'type': 'MovingGeometryCollection', 'prisms': [], 'crs': {'type': 'Name', 'properties': 'urn:ogc:def:crs:OGC:1.3:CRS84'}, 'trs': {'type': 'Name', 'properties': 'urn:ogc:data:time:iso8601'}, 'links': [{'href': 'http://localhost:8085/collections/f61e3218-e1db-4d5b-956e-9a69062f5ae5/items/a7d121c2-23d6-469c-920b-99f8558b7dc3/tGeometries?offset=0', 'rel': 'self', 'type': 'application/json'}], 'timeStamp': '2023-08-18T06:46:15.924111Z', 'numberMatched': 0, 'numberReturned': 0}\n",
      "{'type': 'MovingGeometryCollection', 'prisms': [], 'crs': {'type': 'Name', 'properties': 'urn:ogc:def:crs:OGC:1.3:CRS84'}, 'trs': {'type': 'Name', 'properties': 'urn:ogc:data:time:iso8601'}, 'links': [{'href': 'http://localhost:8085/collections/f61e3218-e1db-4d5b-956e-9a69062f5ae5/items/c1686540-77fd-4362-a26d-39b22694b3b6/tGeometries?offset=0', 'rel': 'self', 'type': 'application/json'}], 'timeStamp': '2023-08-18T06:46:16.059372Z', 'numberMatched': 0, 'numberReturned': 0}\n",
      "\n",
      "{'type': 'MovingGeometryCollection', 'prisms': [], 'crs': {'type': 'Name', 'properties': 'urn:ogc:def:crs:OGC:1.3:CRS84'}, 'trs': {'type': 'Name', 'properties': 'urn:ogc:data:time:iso8601'}, 'links': [{'href': 'http://localhost:8085/collections/f61e3218-e1db-4d5b-956e-9a69062f5ae5/items/db546ef5-27c9-4676-9e3d-ad24543f5718/tGeometries?offset=0', 'rel': 'self', 'type': 'application/json'}], 'timeStamp': '2023-08-18T06:46:16.195195Z', 'numberMatched': 0, 'numberReturned': 0}\n"
     ]
    }
   ],
   "source": [
    "mf_collections_id = \"f61e3218-e1db-4d5b-956e-9a69062f5ae5\"\n",
    "a2 = mfapi_handler.get_mf_collection(collection_id=mf_collections_id)\n",
    "# print(a2.json())\n",
    "result = Munch.fromDict(a2.json())\n",
    "for each_feature in result.features:\n",
    "    # print(each_feature)\n",
    "    # get_endpoint = f\"/collection/{mf_collections_id}/items/{each_feature.id}\"  # 실제 API 엔드포인트로 변경해주세요\n",
    "    get_response = mfapi_handler.get_mf(mf_collections_id, each_feature.id)\n",
    "    print(get_response.json())\n",
    "    print()\n",
    "# collection_id = \"moving_feature_collection_sample\"\n",
    "# # get_params = {\"param_key\": \"param_value\"}  # GET 요청에 보낼 쿼리 파라미터\n",
    "# get_response = api_handler.send_get_request(get_endpoint)\n",
    "# print(\"GET Response:\", get_response)"
   ],
   "metadata": {
    "collapsed": false,
    "ExecuteTime": {
     "end_time": "2023-08-18T06:46:16.936119Z",
     "start_time": "2023-08-18T06:46:15.304907Z"
    }
   },
   "id": "9e54d8e91e588840"
  }
 ],
 "metadata": {
  "kernelspec": {
   "display_name": "Python 3",
   "language": "python",
   "name": "python3"
  },
  "language_info": {
   "codemirror_mode": {
    "name": "ipython",
    "version": 2
   },
   "file_extension": ".py",
   "mimetype": "text/x-python",
   "name": "python",
   "nbconvert_exporter": "python",
   "pygments_lexer": "ipython2",
   "version": "2.7.6"
  }
 },
 "nbformat": 4,
 "nbformat_minor": 5
}
