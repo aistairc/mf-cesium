{
 "cells": [
  {
   "cell_type": "code",
   "execution_count": null,
   "id": "initial_id",
   "metadata": {
    "collapsed": true
   },
   "outputs": [],
   "source": [
    "import json\n",
    "import requests\n",
    "\n",
    "class MFAPIHandler:\n",
    "    def __init__(self, base_url):\n",
    "        self.base_url = base_url\n",
    "\n",
    "    def send_post_request(self, endpoint, data):\n",
    "        url = self.base_url + endpoint\n",
    "        response = requests.post(url, json=data)\n",
    "        return response\n",
    "\n",
    "    def send_get_request(self, endpoint, params=None):\n",
    "        url = self.base_url + endpoint\n",
    "        response = requests.get(url, params=params)\n",
    "        return response.json()\n",
    "\n",
    "    def send_put_request(self, endpoint, data):\n",
    "        url = self.base_url + endpoint\n",
    "        response = requests.put(url, json=data)\n",
    "        return response\n",
    "\n",
    "    def send_delete_request(self, endpoint):\n",
    "        url = self.base_url + endpoint\n",
    "        response = requests.delete(url)\n",
    "        return response\n",
    "\n",
    "    def delete_mf_collection(self, collection_id):\n",
    "        endpoint = f\"/collections/{collection_id}\"\n",
    "        url = self.base_url + endpoint\n",
    "        headers = {\n",
    "            'accept': '*/*',\n",
    "            'Content-Type': 'application/json',\n",
    "        }\n",
    "        response = requests.delete(url, headers=headers)\n",
    "        return response\n",
    "    \n",
    "    def register_new_mf_collection(self, json_data):\n",
    "        endpoint = \"/collections\"\n",
    "        url = self.base_url + endpoint\n",
    "        response = requests.post(url, json=json_data)\n",
    "        return response\n",
    "        \n",
    "    def post_mf_json(self, collection_id, json_data):\n",
    "        url = f\"{collection_id}/items\"\n",
    "        headers = {\n",
    "            'accept': '*/*',\n",
    "            'Content-Type': 'application/json',\n",
    "        }\n",
    "        response = requests.post(url, headers=headers, json=json_data)\n",
    "        return response\n",
    "\n",
    "    def get_mf_collection(self, collection_id):\n",
    "        endpoint = f\"/collections/{collection_id}/items\"\n",
    "        url = self.base_url + endpoint\n",
    "        response = requests.get(url)\n",
    "        return response\n",
    "    \n",
    "    def get_mf(self, collection_id, feature_id):\n",
    "        endpoint = f\"/collections/{collection_id}/items/{feature_id}/tGeometries\"\n",
    "        url = self.base_url + endpoint\n",
    "        response = requests.get(url)\n",
    "        return response"
   ]
  },
  {
   "cell_type": "code",
   "execution_count": null,
   "id": "3231ce10123a67f7",
   "metadata": {
    "collapsed": false
   },
   "outputs": [],
   "source": [
    "# 1. Set the address of MF-API Server\n",
    "pygeoapi_server_url = \"http://localhost:5050\"\n",
    "mfapi_handler = MFAPIHandler(pygeoapi_server_url)"
   ]
  },
  {
   "cell_type": "code",
   "execution_count": null,
   "id": "f00582d67623e321",
   "metadata": {
    "collapsed": false
   },
   "outputs": [],
   "source": [
    "# 2. Register the new MovingFeatureCollection\n",
    "default_mf_collection_json = {\n",
    "    \"title\": \"Foss4GAsia_1\", # Input your MovingFeatureCollection Title\n",
    "    \"updateFrequency\": 1000,\n",
    "    \"description\": \"Test\", # Input the description for MovingFeatureCollection\n",
    "    \"itemType\": \"movingfeature\"\n",
    "}\n",
    "post_result = mfapi_handler.register_new_mf_collection(default_mf_collection_json)\n",
    "mf_collection_id = \"\"\n",
    "if post_result.status_code == 200 or post_result.status_code == 201:\n",
    "    print(f\"Successfully registered the new MovingFeatureCollection\")\n",
    "    mf_collection_id = post_result.headers['Location']\n",
    "    print(f\"Registered MovingFeatureCollection ID: {mf_collection_id}\")\n",
    "else:\n",
    "    print(f\"Failed to register the new MovingFeatureCollection\")\n",
    "    print(post_result.text)\n"
   ]
  },
  {
   "cell_type": "code",
   "execution_count": null,
   "id": "9e54d8e91e588840",
   "metadata": {
    "collapsed": false
   },
   "outputs": [],
   "source": [
    "# 3. Register the MovingFeature data to MovingFeatureCollection\n",
    "\n",
    "mf_json_data_path = \"\" # Path of MF-JSON data\n",
    "\n",
    "with open(mf_json_data_path, \"r\") as fp:\n",
    "    mf_json_data = json.load(fp)\n",
    "fp.close()\n",
    "result = mfapi_handler.post_mf_json(collection_id=mf_collection_id, json_data=mf_json_data)\n",
    "if result.status_code == 200 or result.status_code == 201:\n",
    "    print(f\"Successfully registered the MF-JSON to MovingFeatureCollection\")\n",
    "else:\n",
    "    print(f\"Failed to register the MF-JSON\")\n"
   ]
  }
 ],
 "metadata": {
  "kernelspec": {
   "display_name": "mf-api",
   "language": "python",
   "name": "python3"
  },
  "language_info": {
   "codemirror_mode": {
    "name": "ipython",
    "version": 3
   },
   "file_extension": ".py",
   "mimetype": "text/x-python",
   "name": "python",
   "nbconvert_exporter": "python",
   "pygments_lexer": "ipython3",
   "version": "3.10.11"
  }
 },
 "nbformat": 4,
 "nbformat_minor": 5
}
