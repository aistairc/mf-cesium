{
 "cells": [
  {
   "cell_type": "code",
   "execution_count": null,
   "id": "initial_id",
   "metadata": {
    "collapsed": true
   },
   "outputs": [],
   "source": [
    "import json\n",
    "import requests\n",
    "\n",
    "class MFAPIHandler:\n",
    "    def __init__(self, base_url):\n",
    "        self.base_url = base_url\n",
    "\n",
    "    def send_post_request(self, endpoint, data):\n",
    "        url = self.base_url + endpoint\n",
    "        response = requests.post(url, json=data)\n",
    "        return response\n",
    "\n",
    "    def send_get_request(self, endpoint, params=None):\n",
    "        url = self.base_url + endpoint\n",
    "        response = requests.get(url, params=params)\n",
    "        return response.json()\n",
    "\n",
    "    def send_put_request(self, endpoint, data):\n",
    "        url = self.base_url + endpoint\n",
    "        response = requests.put(url, json=data)\n",
    "        return response\n",
    "\n",
    "    def send_delete_request(self, endpoint):\n",
    "        url = self.base_url + endpoint\n",
    "        response = requests.delete(url)\n",
    "        return response\n",
    "\n",
    "    def delete_mf_collection(self, collection_id):\n",
    "        endpoint = f\"/collections/{collection_id}\"\n",
    "        url = self.base_url + endpoint\n",
    "        headers = {\n",
    "            'accept': '*/*',\n",
    "            'Content-Type': 'application/json',\n",
    "        }\n",
    "        response = requests.delete(url, headers=headers)\n",
    "        return response\n",
    "    \n",
    "    def register_new_mf_collection(self, json_data):\n",
    "        endpoint = \"/collections\"\n",
    "        url = self.base_url + endpoint\n",
    "        response = requests.post(url, json=json_data)\n",
    "        return response\n",
    "        \n",
    "    def post_mf_json(self, collection_id, json_data):\n",
    "        url = f\"{collection_id}/items\"\n",
    "        headers = {\n",
    "            'accept': '*/*',\n",
    "            'Content-Type': 'application/json',\n",
    "        }\n",
    "        response = requests.post(url, headers=headers, json=json_data)\n",
    "        return response\n",
    "\n",
    "    def get_mf_collection(self, collection_id):\n",
    "        endpoint = f\"/collections/{collection_id}/items\"\n",
    "        url = self.base_url + endpoint\n",
    "        response = requests.get(url)\n",
    "        return response\n",
    "    \n",
    "    def get_mf(self, collection_id, feature_id):\n",
    "        endpoint = f\"/collections/{collection_id}/items/{feature_id}/tGeometries\"\n",
    "        url = self.base_url + endpoint\n",
    "        response = requests.get(url)\n",
    "        return response"
   ]
  },
  {
   "cell_type": "code",
   "execution_count": null,
   "outputs": [],
   "source": [
    "# 1. Set the address of MF-API Server\n",
    "mf_api_server = \"http://localhost:8085\"\n",
    "mfapi_handler = MFAPIHandler(mf_api_server)"
   ],
   "metadata": {
    "collapsed": false
   },
   "id": "3231ce10123a67f7"
  },
  {
   "cell_type": "code",
   "execution_count": null,
   "outputs": [],
   "source": [
    "# 2. Register the new MovingFeatureCollection\n",
    "default_mf_collection_json = {\n",
    "    \"title\": \"GeoJsonTest\", # Input your MovingFeatureCollection Title\n",
    "    \"updateFrequency\": 1000,\n",
    "    \"description\": \"Test\" # Input the description for MovingFeatureCollection\n",
    "}\n",
    "post_result = mfapi_handler.register_new_mf_collection(default_mf_collection_json)\n",
    "mf_collection_id = \"\"\n",
    "if post_result.status_code == 200 or post_result.status_code == 201:\n",
    "    print(f\"Successfully registered the new MovingFeatureCollection\")\n",
    "    mf_collection_id = post_result.headers['Location']\n",
    "    print(f\"Registered MovingFeatureCollection ID: {mf_collection_id}\")\n",
    "else:\n",
    "    print(f\"Failed to register the new MovingFeatureCollection\")\n",
    "    print(post_result.text)\n"
   ],
   "metadata": {
    "collapsed": false
   },
   "id": "f00582d67623e321"
  },
  {
   "cell_type": "code",
   "execution_count": null,
   "outputs": [],
   "source": [
    "# 3. Register the MovingFeature data to MovingFeatureCollection\n",
    "\n",
    "mf_json_data_path = \"\" # Path of MF-JSON data\n",
    "\n",
    "with open(mf_json_data_path, \"r\") as fp:\n",
    "    mf_json_data = json.load(fp)\n",
    "fp.close()\n",
    "result = mfapi_handler.post_mf_json(collection_id=mf_collection_id, json_data=mf_json_data)\n",
    "if result.status_code == 200 or result.status_code == 201:\n",
    "    print(f\"Successfully registered the MF-JSON to MovingFeatureCollection\")\n",
    "else:\n",
    "    print(f\"Failed to register the MF-JSON\")\n"
   ],
   "metadata": {
    "collapsed": false
   },
   "id": "9e54d8e91e588840"
  }
 ],
 "metadata": {
  "kernelspec": {
   "display_name": "Python 3",
   "language": "python",
   "name": "python3"
  },
  "language_info": {
   "codemirror_mode": {
    "name": "ipython",
    "version": 2
   },
   "file_extension": ".py",
   "mimetype": "text/x-python",
   "name": "python",
   "nbconvert_exporter": "python",
   "pygments_lexer": "ipython2",
   "version": "2.7.6"
  }
 },
 "nbformat": 4,
 "nbformat_minor": 5
}
